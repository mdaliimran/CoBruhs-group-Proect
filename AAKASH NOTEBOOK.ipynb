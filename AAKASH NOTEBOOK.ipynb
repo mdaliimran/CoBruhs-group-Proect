{
 "cells": [
  {
   "cell_type": "code",
   "execution_count": null,
   "id": "899240ed",
   "metadata": {},
   "outputs": [],
   "source": [
    "# aakash\n"
   ]
  },
  {
   "cell_type": "code",
   "execution_count": null,
   "id": "959cc900",
   "metadata": {},
   "outputs": [],
   "source": [
    "# JD"
   ]
  },
  {
   "cell_type": "code",
   "execution_count": null,
   "id": "20fbb3bf",
   "metadata": {},
   "outputs": [],
   "source": [
    "# imran"
   ]
  },
  {
   "cell_type": "code",
   "execution_count": 1,
   "id": "83aec752",
   "metadata": {},
   "outputs": [],
   "source": [
    "# khai tjie"
   ]
  },
  {
   "cell_type": "code",
   "execution_count": 2,
   "id": "d1e1977e",
   "metadata": {},
   "outputs": [
    {
     "name": "stdout",
     "output_type": "stream",
     "text": [
      "Requirement already satisfied: ipympl in c:\\anacondafolder2\\lib\\site-packages (0.9.3)\n",
      "Requirement already satisfied: numpy in c:\\anacondafolder2\\lib\\site-packages (from ipympl) (1.22.3)\n",
      "Requirement already satisfied: pillow in c:\\anacondafolder2\\lib\\site-packages (from ipympl) (9.4.0)\n",
      "Requirement already satisfied: ipython<9 in c:\\anacondafolder2\\lib\\site-packages (from ipympl) (8.11.0)\n",
      "Requirement already satisfied: matplotlib<4,>=3.4.0 in c:\\anacondafolder2\\lib\\site-packages (from ipympl) (3.5.3)\n",
      "Requirement already satisfied: ipywidgets<9,>=7.6.0 in c:\\anacondafolder2\\lib\\site-packages (from ipympl) (8.0.4)\n",
      "Requirement already satisfied: traitlets<6 in c:\\anacondafolder2\\lib\\site-packages (from ipympl) (5.9.0)\n",
      "Requirement already satisfied: ipython-genutils in c:\\anacondafolder2\\lib\\site-packages (from ipympl) (0.2.0)\n",
      "Requirement already satisfied: pickleshare in c:\\anacondafolder2\\lib\\site-packages (from ipython<9->ipympl) (0.7.5)\n",
      "Requirement already satisfied: stack-data in c:\\anacondafolder2\\lib\\site-packages (from ipython<9->ipympl) (0.6.2)\n",
      "Requirement already satisfied: matplotlib-inline in c:\\anacondafolder2\\lib\\site-packages (from ipython<9->ipympl) (0.1.6)\n",
      "Requirement already satisfied: backcall in c:\\anacondafolder2\\lib\\site-packages (from ipython<9->ipympl) (0.2.0)\n",
      "Requirement already satisfied: colorama in c:\\anacondafolder2\\lib\\site-packages (from ipython<9->ipympl) (0.4.6)\n",
      "Requirement already satisfied: pygments>=2.4.0 in c:\\anacondafolder2\\lib\\site-packages (from ipython<9->ipympl) (2.14.0)\n",
      "Requirement already satisfied: decorator in c:\\anacondafolder2\\lib\\site-packages (from ipython<9->ipympl) (5.1.1)\n",
      "Requirement already satisfied: jedi>=0.16 in c:\\anacondafolder2\\lib\\site-packages (from ipython<9->ipympl) (0.18.2)\n",
      "Requirement already satisfied: prompt-toolkit!=3.0.37,<3.1.0,>=3.0.30 in c:\\anacondafolder2\\lib\\site-packages (from ipython<9->ipympl) (3.0.38)\n",
      "Requirement already satisfied: ipykernel>=4.5.1 in c:\\anacondafolder2\\lib\\site-packages (from ipywidgets<9,>=7.6.0->ipympl) (6.15.0)\n",
      "Requirement already satisfied: widgetsnbextension~=4.0 in c:\\anacondafolder2\\lib\\site-packages (from ipywidgets<9,>=7.6.0->ipympl) (4.0.5)\n",
      "Requirement already satisfied: jupyterlab-widgets~=3.0 in c:\\anacondafolder2\\lib\\site-packages (from ipywidgets<9,>=7.6.0->ipympl) (3.0.5)\n",
      "Requirement already satisfied: python-dateutil>=2.7 in c:\\anacondafolder2\\lib\\site-packages (from matplotlib<4,>=3.4.0->ipympl) (2.8.2)\n",
      "Requirement already satisfied: cycler>=0.10 in c:\\anacondafolder2\\lib\\site-packages (from matplotlib<4,>=3.4.0->ipympl) (0.11.0)\n",
      "Requirement already satisfied: kiwisolver>=1.0.1 in c:\\anacondafolder2\\lib\\site-packages (from matplotlib<4,>=3.4.0->ipympl) (1.4.4)\n",
      "Requirement already satisfied: fonttools>=4.22.0 in c:\\anacondafolder2\\lib\\site-packages (from matplotlib<4,>=3.4.0->ipympl) (4.25.0)\n",
      "Requirement already satisfied: pyparsing>=2.2.1 in c:\\anacondafolder2\\lib\\site-packages (from matplotlib<4,>=3.4.0->ipympl) (3.0.9)\n",
      "Requirement already satisfied: packaging>=20.0 in c:\\anacondafolder2\\lib\\site-packages (from matplotlib<4,>=3.4.0->ipympl) (23.0)\n",
      "Requirement already satisfied: debugpy>=1.0 in c:\\anacondafolder2\\lib\\site-packages (from ipykernel>=4.5.1->ipywidgets<9,>=7.6.0->ipympl) (1.5.1)\n",
      "Requirement already satisfied: psutil in c:\\anacondafolder2\\lib\\site-packages (from ipykernel>=4.5.1->ipywidgets<9,>=7.6.0->ipympl) (5.9.0)\n",
      "Requirement already satisfied: pyzmq>=17 in c:\\anacondafolder2\\lib\\site-packages (from ipykernel>=4.5.1->ipywidgets<9,>=7.6.0->ipympl) (23.2.0)\n",
      "Requirement already satisfied: jupyter-client>=6.1.12 in c:\\anacondafolder2\\lib\\site-packages (from ipykernel>=4.5.1->ipywidgets<9,>=7.6.0->ipympl) (8.0.3)\n",
      "Requirement already satisfied: nest-asyncio in c:\\anacondafolder2\\lib\\site-packages (from ipykernel>=4.5.1->ipywidgets<9,>=7.6.0->ipympl) (1.5.6)\n",
      "Requirement already satisfied: tornado>=6.1 in c:\\anacondafolder2\\lib\\site-packages (from ipykernel>=4.5.1->ipywidgets<9,>=7.6.0->ipympl) (6.2)\n",
      "Requirement already satisfied: parso<0.9.0,>=0.8.0 in c:\\anacondafolder2\\lib\\site-packages (from jedi>=0.16->ipython<9->ipympl) (0.8.3)\n",
      "Requirement already satisfied: wcwidth in c:\\anacondafolder2\\lib\\site-packages (from prompt-toolkit!=3.0.37,<3.1.0,>=3.0.30->ipython<9->ipympl) (0.2.6)\n",
      "Requirement already satisfied: six>=1.5 in c:\\anacondafolder2\\lib\\site-packages (from python-dateutil>=2.7->matplotlib<4,>=3.4.0->ipympl) (1.16.0)\n",
      "Requirement already satisfied: executing>=1.2.0 in c:\\anacondafolder2\\lib\\site-packages (from stack-data->ipython<9->ipympl) (1.2.0)\n",
      "Requirement already satisfied: asttokens>=2.1.0 in c:\\anacondafolder2\\lib\\site-packages (from stack-data->ipython<9->ipympl) (2.2.1)\n",
      "Requirement already satisfied: pure-eval in c:\\anacondafolder2\\lib\\site-packages (from stack-data->ipython<9->ipympl) (0.2.2)\n",
      "Requirement already satisfied: jupyter-core!=5.0.*,>=4.12 in c:\\anacondafolder2\\lib\\site-packages (from jupyter-client>=6.1.12->ipykernel>=4.5.1->ipywidgets<9,>=7.6.0->ipympl) (5.2.0)\n",
      "Requirement already satisfied: platformdirs>=2.5 in c:\\anacondafolder2\\lib\\site-packages (from jupyter-core!=5.0.*,>=4.12->jupyter-client>=6.1.12->ipykernel>=4.5.1->ipywidgets<9,>=7.6.0->ipympl) (3.1.0)\n",
      "Requirement already satisfied: pywin32>=1.0 in c:\\anacondafolder2\\lib\\site-packages (from jupyter-core!=5.0.*,>=4.12->jupyter-client>=6.1.12->ipykernel>=4.5.1->ipywidgets<9,>=7.6.0->ipympl) (305.1)\n",
      "Note: you may need to restart the kernel to use updated packages.\n"
     ]
    }
   ],
   "source": [
    "pip install ipympl"
   ]
  },
  {
   "cell_type": "code",
   "execution_count": 3,
   "id": "abc4c6ba",
   "metadata": {},
   "outputs": [],
   "source": [
    "%matplotlib widget\n",
    "\n",
    "import numpy as np\n",
    "from math import acos, pi\n",
    "from matplotlib import pyplot as plt\n",
    "from IPython.display import display\n",
    "from ipywidgets import interactive\n",
    "import ipywidgets as widgets\n",
    "from scipy.integrate import odeint"
   ]
  },
  {
   "cell_type": "code",
   "execution_count": 5,
   "id": "32575e4e",
   "metadata": {},
   "outputs": [
    {
     "data": {
      "application/vnd.jupyter.widget-view+json": {
       "model_id": "2b971ee11c164c4db99ac695c8ff2ada",
       "version_major": 2,
       "version_minor": 0
      },
      "text/plain": [
       "interactive(children=(FloatSlider(value=1.0, description='a', max=2.0, min=-2.0), FloatSlider(value=1.0, descr…"
      ]
     },
     "metadata": {},
     "output_type": "display_data"
    }
   ],
   "source": [
    "# TEST OUT WITH WEBSITE EXAMPLE\n",
    "\n",
    "%matplotlib inline\n",
    "\n",
    "def plot_solution(a=1.,b=1.,c=1.,d=0.5):\n",
    "    def f(s, t):\n",
    "\n",
    "        l, p = s\n",
    "        dldt = a*l - b*l*p\n",
    "        dpdt = -c*p + d*l*p\n",
    "        return [dldt, dpdt]\n",
    "\n",
    "    t = np.arange(0,10*np.pi,0.01)\n",
    "    s0=[0.1,5]\n",
    "\n",
    "    s = odeint(f, s0, t)\n",
    "\n",
    "    plt.plot(t,s[:,0],'r-', linewidth=2.0)\n",
    "    plt.plot(t,s[:,1],'b-', linewidth=2.0)\n",
    "    plt.xlabel(\"xlbl\")\n",
    "    plt.ylabel(\"concentration (ng/mL)\")\n",
    "    plt.legend([\"LH\",\"P\"])\n",
    "    plt.show()\n",
    "\n",
    "\n",
    "    \n",
    "w = interactive(plot_solution, a=(-2.0,2.0), b=(-2.0,2.0), c=(-2.0,2.0), d=(-2.0,2.0))\n",
    "\n",
    "display(w)"
   ]
  },
  {
   "cell_type": "code",
   "execution_count": 6,
   "id": "08154cd8",
   "metadata": {},
   "outputs": [
    {
     "data": {
      "application/vnd.jupyter.widget-view+json": {
       "model_id": "13c21358dd494da685d44fad2c71941a",
       "version_major": 2,
       "version_minor": 0
      },
      "text/plain": [
       "interactive(children=(FloatSlider(value=5.0, description='k1', max=10.0, step=0.05), IntSlider(value=5, descri…"
      ]
     },
     "metadata": {},
     "output_type": "display_data"
    }
   ],
   "source": [
    "%matplotlib inline\n",
    "\n",
    "\n",
    "def constants(k1=5, k2=5):\n",
    "    def dAdt(a, t):\n",
    "\n",
    "        dadt = -k1*a0*np.exp(-k1*t)\n",
    "        return dadt\n",
    "\n",
    "    def dBdt(b, t):\n",
    "        dbdt = -k2*np.exp(-k2*t)\n",
    "        return dbdt - dAdt(a, t)\n",
    "\n",
    "    def dCdt(c, t):\n",
    "        dcdt = k2*np.exp(-k2*t)\n",
    "        return dcdt\n",
    "\n",
    "    t = np.arange(0, 3, 0.01)\n",
    "    a0 = 1\n",
    "    b0 = 0\n",
    "    c0 = 0\n",
    "    a = odeint(dAdt, a0, t)\n",
    "    b = odeint(dBdt, b0, t)\n",
    "    c = odeint(dCdt, c0, t)\n",
    "\n",
    "    plt.plot(t, a)\n",
    "    plt.plot(t, b)\n",
    "    plt.plot(t, c)\n",
    "\n",
    "    plt.show()\n",
    "\n",
    "\n",
    "w = interactive(constants, k1=(0, 10, 0.05), k2=(0, 100, 10))\n",
    "\n",
    "display(w)"
   ]
  },
  {
   "cell_type": "code",
   "execution_count": null,
   "id": "742e422b",
   "metadata": {},
   "outputs": [],
   "source": []
  },
  {
   "cell_type": "code",
   "execution_count": null,
   "id": "00e6b01a",
   "metadata": {},
   "outputs": [],
   "source": []
  },
  {
   "cell_type": "code",
   "execution_count": null,
   "id": "5184a9fc",
   "metadata": {},
   "outputs": [],
   "source": []
  }
 ],
 "metadata": {
  "kernelspec": {
   "display_name": "Python 3 (ipykernel)",
   "language": "python",
   "name": "python3"
  },
  "language_info": {
   "codemirror_mode": {
    "name": "ipython",
    "version": 3
   },
   "file_extension": ".py",
   "mimetype": "text/x-python",
   "name": "python",
   "nbconvert_exporter": "python",
   "pygments_lexer": "ipython3",
   "version": "3.10.9"
  }
 },
 "nbformat": 4,
 "nbformat_minor": 5
}
